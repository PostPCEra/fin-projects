{
 "cells": [
  {
   "cell_type": "code",
   "execution_count": 1,
   "metadata": {
    "scrolled": false
   },
   "outputs": [
    {
     "data": {
      "text/plain": [
       "(841, 6)"
      ]
     },
     "execution_count": 1,
     "metadata": {},
     "output_type": "execute_result"
    }
   ],
   "source": [
    "import pandas as pd\n",
    "\n",
    "df = pd.read_csv('PYPL.dat')\n",
    "df.shape"
   ]
  },
  {
   "cell_type": "code",
   "execution_count": 2,
   "metadata": {
    "scrolled": false
   },
   "outputs": [
    {
     "data": {
      "text/html": [
       "<div>\n",
       "<style scoped>\n",
       "    .dataframe tbody tr th:only-of-type {\n",
       "        vertical-align: middle;\n",
       "    }\n",
       "\n",
       "    .dataframe tbody tr th {\n",
       "        vertical-align: top;\n",
       "    }\n",
       "\n",
       "    .dataframe thead th {\n",
       "        text-align: right;\n",
       "    }\n",
       "</style>\n",
       "<table border=\"1\" class=\"dataframe\">\n",
       "  <thead>\n",
       "    <tr style=\"text-align: right;\">\n",
       "      <th></th>\n",
       "      <th>date</th>\n",
       "      <th>1. open</th>\n",
       "      <th>2. high</th>\n",
       "      <th>3. low</th>\n",
       "      <th>4. close</th>\n",
       "      <th>5. volume</th>\n",
       "    </tr>\n",
       "  </thead>\n",
       "  <tbody>\n",
       "    <tr>\n",
       "      <th>0</th>\n",
       "      <td>2015-07-20</td>\n",
       "      <td>41.46</td>\n",
       "      <td>42.5500</td>\n",
       "      <td>39.80</td>\n",
       "      <td>40.47</td>\n",
       "      <td>52286509.0</td>\n",
       "    </tr>\n",
       "    <tr>\n",
       "      <th>1</th>\n",
       "      <td>2015-07-21</td>\n",
       "      <td>41.08</td>\n",
       "      <td>41.1100</td>\n",
       "      <td>39.12</td>\n",
       "      <td>39.35</td>\n",
       "      <td>32954573.0</td>\n",
       "    </tr>\n",
       "    <tr>\n",
       "      <th>2</th>\n",
       "      <td>2015-07-22</td>\n",
       "      <td>39.35</td>\n",
       "      <td>39.7178</td>\n",
       "      <td>38.10</td>\n",
       "      <td>38.39</td>\n",
       "      <td>25380859.0</td>\n",
       "    </tr>\n",
       "    <tr>\n",
       "      <th>3</th>\n",
       "      <td>2015-07-23</td>\n",
       "      <td>38.74</td>\n",
       "      <td>38.7500</td>\n",
       "      <td>36.93</td>\n",
       "      <td>37.01</td>\n",
       "      <td>19250154.0</td>\n",
       "    </tr>\n",
       "    <tr>\n",
       "      <th>4</th>\n",
       "      <td>2015-07-24</td>\n",
       "      <td>37.71</td>\n",
       "      <td>38.0000</td>\n",
       "      <td>36.91</td>\n",
       "      <td>37.00</td>\n",
       "      <td>14274305.0</td>\n",
       "    </tr>\n",
       "  </tbody>\n",
       "</table>\n",
       "</div>"
      ],
      "text/plain": [
       "         date  1. open  2. high  3. low  4. close   5. volume\n",
       "0  2015-07-20    41.46  42.5500   39.80     40.47  52286509.0\n",
       "1  2015-07-21    41.08  41.1100   39.12     39.35  32954573.0\n",
       "2  2015-07-22    39.35  39.7178   38.10     38.39  25380859.0\n",
       "3  2015-07-23    38.74  38.7500   36.93     37.01  19250154.0\n",
       "4  2015-07-24    37.71  38.0000   36.91     37.00  14274305.0"
      ]
     },
     "execution_count": 2,
     "metadata": {},
     "output_type": "execute_result"
    }
   ],
   "source": [
    "df.head()"
   ]
  },
  {
   "cell_type": "code",
   "execution_count": 17,
   "metadata": {},
   "outputs": [
    {
     "name": "stdout",
     "output_type": "stream",
     "text": [
      "0    0.000000\n",
      "1   -2.767482\n",
      "2   -2.439644\n",
      "3   -3.594686\n",
      "4   -0.027020\n",
      "Name: d_ret, dtype: float64\n",
      "         date  1. open  2. high  3. low  4. close   5. volume      gain\n",
      "0  2015-07-20    41.46  42.5500   39.80     40.47  52286509.0  0.000000\n",
      "1  2015-07-21    41.08  41.1100   39.12     39.35  32954573.0 -2.767482\n",
      "2  2015-07-22    39.35  39.7178   38.10     38.39  25380859.0 -2.439644\n",
      "3  2015-07-23    38.74  38.7500   36.93     37.01  19250154.0 -3.594686\n",
      "4  2015-07-24    37.71  38.0000   36.91     37.00  14274305.0 -0.027020\n"
     ]
    },
    {
     "data": {
      "text/html": [
       "<div>\n",
       "<style scoped>\n",
       "    .dataframe tbody tr th:only-of-type {\n",
       "        vertical-align: middle;\n",
       "    }\n",
       "\n",
       "    .dataframe tbody tr th {\n",
       "        vertical-align: top;\n",
       "    }\n",
       "\n",
       "    .dataframe thead th {\n",
       "        text-align: right;\n",
       "    }\n",
       "</style>\n",
       "<table border=\"1\" class=\"dataframe\">\n",
       "  <thead>\n",
       "    <tr style=\"text-align: right;\">\n",
       "      <th></th>\n",
       "      <th>date</th>\n",
       "      <th>1. open</th>\n",
       "      <th>2. high</th>\n",
       "      <th>3. low</th>\n",
       "      <th>4. close</th>\n",
       "      <th>5. volume</th>\n",
       "      <th>gain</th>\n",
       "    </tr>\n",
       "  </thead>\n",
       "  <tbody>\n",
       "    <tr>\n",
       "      <th>2</th>\n",
       "      <td>2015-07-22</td>\n",
       "      <td>39.35</td>\n",
       "      <td>39.7178</td>\n",
       "      <td>38.10</td>\n",
       "      <td>38.39</td>\n",
       "      <td>25380859.0</td>\n",
       "      <td>-2.439644</td>\n",
       "    </tr>\n",
       "    <tr>\n",
       "      <th>3</th>\n",
       "      <td>2015-07-23</td>\n",
       "      <td>38.74</td>\n",
       "      <td>38.7500</td>\n",
       "      <td>36.93</td>\n",
       "      <td>37.01</td>\n",
       "      <td>19250154.0</td>\n",
       "      <td>-3.594686</td>\n",
       "    </tr>\n",
       "  </tbody>\n",
       "</table>\n",
       "</div>"
      ],
      "text/plain": [
       "         date  1. open  2. high  3. low  4. close   5. volume      gain\n",
       "2  2015-07-22    39.35  39.7178   38.10     38.39  25380859.0 -2.439644\n",
       "3  2015-07-23    38.74  38.7500   36.93     37.01  19250154.0 -3.594686"
      ]
     },
     "execution_count": 17,
     "metadata": {},
     "output_type": "execute_result"
    }
   ],
   "source": [
    "from extlibs  import ta2 \n",
    "\n",
    "close = df['4. close']\n",
    "dr = ta2.daily_return(close, fillna=True) # dr is series not Dataframe\n",
    "print(dr.head())\n",
    "\n",
    "df['gain'] = dr\n",
    "print(df.head())\n",
    "df[2:4]"
   ]
  },
  {
   "cell_type": "code",
   "execution_count": 28,
   "metadata": {
    "scrolled": true
   },
   "outputs": [
    {
     "name": "stdout",
     "output_type": "stream",
     "text": [
      "12\n",
      "           date  1. open  2. high  3. low  4. close  5. volume      gain\n",
      "836  2018-11-09    88.45   88.450   85.55     86.76  9105908.0 -2.560647\n",
      "837  2018-11-12    86.17   86.650   83.30     83.78  6278185.0 -3.434763\n",
      "838  2018-11-13    84.12   85.229   83.16     83.78  4731289.0  0.000000\n",
      "839  2018-11-14    84.98   85.140   83.07     84.05  6678468.0  0.322273\n",
      "840  2018-11-15    83.79   87.090   83.60     86.74  9779650.0  3.200476\n"
     ]
    },
    {
     "data": {
      "text/html": [
       "<div>\n",
       "<style scoped>\n",
       "    .dataframe tbody tr th:only-of-type {\n",
       "        vertical-align: middle;\n",
       "    }\n",
       "\n",
       "    .dataframe tbody tr th {\n",
       "        vertical-align: top;\n",
       "    }\n",
       "\n",
       "    .dataframe thead th {\n",
       "        text-align: right;\n",
       "    }\n",
       "</style>\n",
       "<table border=\"1\" class=\"dataframe\">\n",
       "  <thead>\n",
       "    <tr style=\"text-align: right;\">\n",
       "      <th></th>\n",
       "      <th>date</th>\n",
       "      <th>1. open</th>\n",
       "      <th>2. high</th>\n",
       "      <th>3. low</th>\n",
       "      <th>4. close</th>\n",
       "      <th>5. volume</th>\n",
       "      <th>gain</th>\n",
       "      <th>updown</th>\n",
       "    </tr>\n",
       "  </thead>\n",
       "  <tbody>\n",
       "    <tr>\n",
       "      <th>836</th>\n",
       "      <td>2018-11-09</td>\n",
       "      <td>88.45</td>\n",
       "      <td>88.450</td>\n",
       "      <td>85.55</td>\n",
       "      <td>86.76</td>\n",
       "      <td>9105908.0</td>\n",
       "      <td>-2.560647</td>\n",
       "      <td>DN</td>\n",
       "    </tr>\n",
       "    <tr>\n",
       "      <th>837</th>\n",
       "      <td>2018-11-12</td>\n",
       "      <td>86.17</td>\n",
       "      <td>86.650</td>\n",
       "      <td>83.30</td>\n",
       "      <td>83.78</td>\n",
       "      <td>6278185.0</td>\n",
       "      <td>-3.434763</td>\n",
       "      <td>DN</td>\n",
       "    </tr>\n",
       "    <tr>\n",
       "      <th>838</th>\n",
       "      <td>2018-11-13</td>\n",
       "      <td>84.12</td>\n",
       "      <td>85.229</td>\n",
       "      <td>83.16</td>\n",
       "      <td>83.78</td>\n",
       "      <td>4731289.0</td>\n",
       "      <td>0.000000</td>\n",
       "      <td>DN</td>\n",
       "    </tr>\n",
       "    <tr>\n",
       "      <th>839</th>\n",
       "      <td>2018-11-14</td>\n",
       "      <td>84.98</td>\n",
       "      <td>85.140</td>\n",
       "      <td>83.07</td>\n",
       "      <td>84.05</td>\n",
       "      <td>6678468.0</td>\n",
       "      <td>0.322273</td>\n",
       "      <td>DN</td>\n",
       "    </tr>\n",
       "    <tr>\n",
       "      <th>840</th>\n",
       "      <td>2018-11-15</td>\n",
       "      <td>83.79</td>\n",
       "      <td>87.090</td>\n",
       "      <td>83.60</td>\n",
       "      <td>86.74</td>\n",
       "      <td>9779650.0</td>\n",
       "      <td>3.200476</td>\n",
       "      <td>UP</td>\n",
       "    </tr>\n",
       "  </tbody>\n",
       "</table>\n",
       "</div>"
      ],
      "text/plain": [
       "           date  1. open  2. high  3. low  4. close  5. volume      gain  \\\n",
       "836  2018-11-09    88.45   88.450   85.55     86.76  9105908.0 -2.560647   \n",
       "837  2018-11-12    86.17   86.650   83.30     83.78  6278185.0 -3.434763   \n",
       "838  2018-11-13    84.12   85.229   83.16     83.78  4731289.0  0.000000   \n",
       "839  2018-11-14    84.98   85.140   83.07     84.05  6678468.0  0.322273   \n",
       "840  2018-11-15    83.79   87.090   83.60     86.74  9779650.0  3.200476   \n",
       "\n",
       "    updown  \n",
       "836     DN  \n",
       "837     DN  \n",
       "838     DN  \n",
       "839     DN  \n",
       "840     UP  "
      ]
     },
     "execution_count": 28,
     "metadata": {},
     "output_type": "execute_result"
    }
   ],
   "source": [
    "# this is func\n",
    "def getupdown(row):\n",
    "    ret = 'UP'\n",
    "    if (row['4. close'] < row['1. open']):\n",
    "        ret = 'DN'\n",
    "    return ret\n",
    "\n",
    "a = twice(6)\n",
    "print(a)\n",
    "print(df.tail())\n",
    "df['updown'] = df.apply(lambda row: getupdown(row), axis=1)\n",
    "#print(df[839]['1. open'])\n",
    "df.tail()"
   ]
  },
  {
   "cell_type": "code",
   "execution_count": 37,
   "metadata": {},
   "outputs": [
    {
     "name": "stdout",
     "output_type": "stream",
     "text": [
      "5 36.39\n",
      "6 37.6\n",
      "7 37.95\n",
      "8 38.45\n",
      "9 38.7\n",
      "10 39.39\n",
      "11 38.95\n"
     ]
    },
    {
     "data": {
      "text/html": [
       "<div>\n",
       "<style scoped>\n",
       "    .dataframe tbody tr th:only-of-type {\n",
       "        vertical-align: middle;\n",
       "    }\n",
       "\n",
       "    .dataframe tbody tr th {\n",
       "        vertical-align: top;\n",
       "    }\n",
       "\n",
       "    .dataframe thead th {\n",
       "        text-align: right;\n",
       "    }\n",
       "</style>\n",
       "<table border=\"1\" class=\"dataframe\">\n",
       "  <thead>\n",
       "    <tr style=\"text-align: right;\">\n",
       "      <th></th>\n",
       "      <th>date</th>\n",
       "      <th>1. open</th>\n",
       "      <th>2. high</th>\n",
       "      <th>3. low</th>\n",
       "      <th>4. close</th>\n",
       "      <th>5. volume</th>\n",
       "      <th>gain</th>\n",
       "      <th>updown</th>\n",
       "    </tr>\n",
       "  </thead>\n",
       "  <tbody>\n",
       "    <tr>\n",
       "      <th>8</th>\n",
       "      <td>2015-07-30</td>\n",
       "      <td>38.04</td>\n",
       "      <td>39.01</td>\n",
       "      <td>37.715</td>\n",
       "      <td>38.45</td>\n",
       "      <td>13845091.0</td>\n",
       "      <td>1.317523</td>\n",
       "      <td>UP</td>\n",
       "    </tr>\n",
       "  </tbody>\n",
       "</table>\n",
       "</div>"
      ],
      "text/plain": [
       "         date  1. open  2. high  3. low  4. close   5. volume      gain updown\n",
       "8  2015-07-30    38.04    39.01  37.715     38.45  13845091.0  1.317523     UP"
      ]
     },
     "execution_count": 37,
     "metadata": {},
     "output_type": "execute_result"
    }
   ],
   "source": [
    "# df iteration : https://erikrood.com/Python_References/iterate_rows_pandas.html\n",
    "for idx, row in df.iterrows():\n",
    "    if idx < 5:\n",
    "        continue\n",
    "    d2ago = df.iloc[[idx - 2]]\n",
    "    d1ago = df.iloc[[idx - 1]]\n",
    "    d = df.iloc[[idx]]\n",
    "    print (idx, row[\"4. close\"])\n",
    "    if idx > 10:\n",
    "        break\n",
    "        \n",
    "df.iloc[[10 - 2]]"
   ]
  },
  {
   "cell_type": "code",
   "execution_count": null,
   "metadata": {},
   "outputs": [],
   "source": []
  }
 ],
 "metadata": {
  "kernelspec": {
   "display_name": "Python 3",
   "language": "python",
   "name": "python3"
  },
  "language_info": {
   "codemirror_mode": {
    "name": "ipython",
    "version": 3
   },
   "file_extension": ".py",
   "mimetype": "text/x-python",
   "name": "python",
   "nbconvert_exporter": "python",
   "pygments_lexer": "ipython3",
   "version": "3.7.0"
  }
 },
 "nbformat": 4,
 "nbformat_minor": 2
}
