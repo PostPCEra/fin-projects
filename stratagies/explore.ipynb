{
 "cells": [
  {
   "cell_type": "code",
   "execution_count": 1,
   "metadata": {
    "scrolled": false
   },
   "outputs": [
    {
     "data": {
      "text/plain": [
       "(841, 6)"
      ]
     },
     "execution_count": 1,
     "metadata": {},
     "output_type": "execute_result"
    }
   ],
   "source": [
    "import pandas as pd\n",
    "\n",
    "df = pd.read_csv('PYPL.dat')\n",
    "df.shape"
   ]
  },
  {
   "cell_type": "code",
   "execution_count": 2,
   "metadata": {
    "scrolled": false
   },
   "outputs": [
    {
     "data": {
      "text/html": [
       "<div>\n",
       "<style scoped>\n",
       "    .dataframe tbody tr th:only-of-type {\n",
       "        vertical-align: middle;\n",
       "    }\n",
       "\n",
       "    .dataframe tbody tr th {\n",
       "        vertical-align: top;\n",
       "    }\n",
       "\n",
       "    .dataframe thead th {\n",
       "        text-align: right;\n",
       "    }\n",
       "</style>\n",
       "<table border=\"1\" class=\"dataframe\">\n",
       "  <thead>\n",
       "    <tr style=\"text-align: right;\">\n",
       "      <th></th>\n",
       "      <th>date</th>\n",
       "      <th>1. open</th>\n",
       "      <th>2. high</th>\n",
       "      <th>3. low</th>\n",
       "      <th>4. close</th>\n",
       "      <th>5. volume</th>\n",
       "    </tr>\n",
       "  </thead>\n",
       "  <tbody>\n",
       "    <tr>\n",
       "      <th>0</th>\n",
       "      <td>2015-07-20</td>\n",
       "      <td>41.46</td>\n",
       "      <td>42.5500</td>\n",
       "      <td>39.80</td>\n",
       "      <td>40.47</td>\n",
       "      <td>52286509.0</td>\n",
       "    </tr>\n",
       "    <tr>\n",
       "      <th>1</th>\n",
       "      <td>2015-07-21</td>\n",
       "      <td>41.08</td>\n",
       "      <td>41.1100</td>\n",
       "      <td>39.12</td>\n",
       "      <td>39.35</td>\n",
       "      <td>32954573.0</td>\n",
       "    </tr>\n",
       "    <tr>\n",
       "      <th>2</th>\n",
       "      <td>2015-07-22</td>\n",
       "      <td>39.35</td>\n",
       "      <td>39.7178</td>\n",
       "      <td>38.10</td>\n",
       "      <td>38.39</td>\n",
       "      <td>25380859.0</td>\n",
       "    </tr>\n",
       "    <tr>\n",
       "      <th>3</th>\n",
       "      <td>2015-07-23</td>\n",
       "      <td>38.74</td>\n",
       "      <td>38.7500</td>\n",
       "      <td>36.93</td>\n",
       "      <td>37.01</td>\n",
       "      <td>19250154.0</td>\n",
       "    </tr>\n",
       "    <tr>\n",
       "      <th>4</th>\n",
       "      <td>2015-07-24</td>\n",
       "      <td>37.71</td>\n",
       "      <td>38.0000</td>\n",
       "      <td>36.91</td>\n",
       "      <td>37.00</td>\n",
       "      <td>14274305.0</td>\n",
       "    </tr>\n",
       "  </tbody>\n",
       "</table>\n",
       "</div>"
      ],
      "text/plain": [
       "         date  1. open  2. high  3. low  4. close   5. volume\n",
       "0  2015-07-20    41.46  42.5500   39.80     40.47  52286509.0\n",
       "1  2015-07-21    41.08  41.1100   39.12     39.35  32954573.0\n",
       "2  2015-07-22    39.35  39.7178   38.10     38.39  25380859.0\n",
       "3  2015-07-23    38.74  38.7500   36.93     37.01  19250154.0\n",
       "4  2015-07-24    37.71  38.0000   36.91     37.00  14274305.0"
      ]
     },
     "execution_count": 2,
     "metadata": {},
     "output_type": "execute_result"
    }
   ],
   "source": [
    "df.head()"
   ]
  },
  {
   "cell_type": "code",
   "execution_count": 2,
   "metadata": {},
   "outputs": [
    {
     "data": {
      "text/plain": [
       "0    0.000000\n",
       "1   -2.767482\n",
       "2   -2.439644\n",
       "3   -3.594686\n",
       "4   -0.027020\n",
       "Name: d_ret, dtype: float64"
      ]
     },
     "execution_count": 2,
     "metadata": {},
     "output_type": "execute_result"
    }
   ],
   "source": [
    "from extlibs  import ta2 \n",
    "\n",
    "close = df['4. close']\n",
    "dr = ta2.daily_return(close, fillna=True)\n",
    "dr.head()"
   ]
  },
  {
   "cell_type": "code",
   "execution_count": null,
   "metadata": {},
   "outputs": [],
   "source": []
  }
 ],
 "metadata": {
  "kernelspec": {
   "display_name": "Python 3",
   "language": "python",
   "name": "python3"
  },
  "language_info": {
   "codemirror_mode": {
    "name": "ipython",
    "version": 3
   },
   "file_extension": ".py",
   "mimetype": "text/x-python",
   "name": "python",
   "nbconvert_exporter": "python",
   "pygments_lexer": "ipython3",
   "version": "3.7.0"
  }
 },
 "nbformat": 4,
 "nbformat_minor": 2
}
