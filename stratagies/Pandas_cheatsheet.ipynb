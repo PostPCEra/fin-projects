{
 "cells": [
  {
   "cell_type": "markdown",
   "metadata": {},
   "source": [
    "### Various Pandas Library examples 'cheatsheet' for quick reference ...\n",
    "#### mainly taken from ChrisAlbon website ...\n"
   ]
  },
  {
   "cell_type": "code",
   "execution_count": null,
   "metadata": {},
   "outputs": [],
   "source": [
    "\n",
    "\n",
    "\n"
   ]
  },
  {
   "cell_type": "code",
   "execution_count": null,
   "metadata": {},
   "outputs": [],
   "source": [
    "# 1. View subset of COLUMNS \n",
    "df['name']\n",
    "\n",
    "df[['name', 'reports']] # View Two Columns\n",
    "\n",
    "\n",
    "# 2. FILTER  Data ROWS \n",
    "index = 5 \n",
    "df2 = df.iloc[[index]]  # get row 5 as a dataframe df2\n",
    "\n",
    "df[2:4] # subset of ROWS as dataframe\n",
    "df[8:]   # row 8 to last as df , works like python LIST Range index\n",
    "\n",
    "\n",
    "# https://chrisalbon.com/python/data_wrangling/pandas_dropping_column_and_rows/\n",
    "df[:3] #keep top 3\n",
    "\n",
    "df[:-3] #drop bottom 3 \n",
    "\n",
    "df.drop(df.index[2]) # drop ROW 3 ( index is Zero based)\n",
    "df.drop(df.index[-2])\n",
    "df.drop(df.index[[2,3]]) # range drop\n",
    "\n",
    "\n",
    "\n",
    "# 3. DROP COLUMNS \n",
    "# Drop a variable (column) : axis=1 denotes that we are referring to a COLUMN, not a row\n",
    "df.drop('reports', axis=1)  \n"
   ]
  },
  {
   "cell_type": "code",
   "execution_count": null,
   "metadata": {},
   "outputs": [],
   "source": [
    "#JOIN, MEREE : https://chrisalbon.com/python/data_wrangling/pandas_join_merge_dataframe/\n",
    "\n",
    "# Join the two dataframes along rows\n",
    "df_new = pd.concat([df_a, df_b])\n",
    "\n",
    "# Join the two dataframes along columns\n",
    "pd.concat([df_a, df_b], axis=1)\n",
    "\n",
    "# Merge two df along the subject_id value\n",
    "pd.merge(df_new, df_n, on='subject_id') \n"
   ]
  },
  {
   "cell_type": "code",
   "execution_count": null,
   "metadata": {},
   "outputs": [],
   "source": [
    "# append to DF at the end, so it is FAST : https://chrisalbon.com/python/data_wrangling/pandas_create_column_with_loop/\n",
    "grades = []\n",
    "\n",
    "# For each row in the column,\n",
    "for row in df['test_score']:\n",
    "    if row > 95:\n",
    "        grades.append('A')\n",
    "        \n",
    "df['grades'] = grades\n",
    "\n",
    "# method 2 : df.apply : when new col depends on many columns of EACH Row\n",
    "df['updown'] = df.apply(lambda row: getupdown(row), axis=1)\n",
    "\n",
    "def getupdown(row):\n",
    "    ...\n",
    "    return val"
   ]
  },
  {
   "cell_type": "code",
   "execution_count": null,
   "metadata": {},
   "outputs": [],
   "source": [
    "# MAP : https://chrisalbon.com/python/data_wrangling/pandas_map_values_to_values/\n",
    "df['state'] = df['city'].map(city_to_state)\n"
   ]
  },
  {
   "cell_type": "code",
   "execution_count": null,
   "metadata": {},
   "outputs": [],
   "source": [
    "# PIPELINE : https://chrisalbon.com/python/data_wrangling/pandas_create_pipeline/\n",
    "df2 = (df.pipe(mean_age_by_group, col='gender')\n",
    "   # then applies the uppercase column name function\n",
    "   .pipe(uppercase_column_name)\n",
    ")"
   ]
  }
 ],
 "metadata": {
  "kernelspec": {
   "display_name": "Python 3",
   "language": "python",
   "name": "python3"
  },
  "language_info": {
   "codemirror_mode": {
    "name": "ipython",
    "version": 3
   },
   "file_extension": ".py",
   "mimetype": "text/x-python",
   "name": "python",
   "nbconvert_exporter": "python",
   "pygments_lexer": "ipython3",
   "version": "3.7.0"
  }
 },
 "nbformat": 4,
 "nbformat_minor": 2
}
